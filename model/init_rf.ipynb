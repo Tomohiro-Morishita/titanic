{
 "cells": [
  {
   "cell_type": "code",
   "execution_count": null,
   "metadata": {},
   "outputs": [],
   "source": [
    "import numpy as np\n",
    "import pandas as pd\n",
    "from sklearn.ensemble import RandomForestClassifier\n",
    "\n",
    "train = pd.read_csv('titanic/train.csv')\n",
    "test = pd.read_csv('titanic/test.csv')"
   ]
  },
  {
   "cell_type": "code",
   "execution_count": null,
   "metadata": {},
   "outputs": [],
   "source": [
    "#欠損値の数を特徴量として追加\n",
    "def process_first(data):\n",
    "    data_processed = data.copy()\n",
    "\n",
    "    data_processed['Miss'] = data_processed.isnull().sum(axis=1)\n",
    "    data_processed['Sex'] = data_processed['Sex'].map({'female':0, 'male':1})\n",
    "    data_processed['Embarked'] = data_processed['Embarked'].map({'C':0, 'Q':1, 'S':2}).astype('Int64')\n",
    "    data_processed.drop(['PassengerId', 'Name','Ticket', 'Cabin'], axis=1, inplace=True)\n",
    "    data_processed['Age'] = data_processed['Age'].fillna(data_processed[\"Age\"].median())\n",
    "    data_processed['Embarked'] = data_processed['Embarked'].fillna(data_processed['Embarked'].mode()[0])\n",
    "    data_processed['Fare'] = data_processed['Fare'].fillna(data_processed['Fare'].median())\n",
    "    return data_processed\n",
    "\n",
    "train_processed = process_first(train)\n",
    "x_test = process_first(test)"
   ]
  },
  {
   "cell_type": "code",
   "execution_count": 3,
   "metadata": {},
   "outputs": [],
   "source": [
    "x_train = train_processed.drop('Survived', axis=1, inplace=False)\n",
    "y_train = train['Survived']"
   ]
  },
  {
   "cell_type": "code",
   "execution_count": null,
   "metadata": {},
   "outputs": [],
   "source": [
    "rf_classifier = RandomForestClassifier(n_estimators=100, random_state=42)\n",
    "rf_classifier.fit(x_train, y_train)\n",
    "y_pred = rf_classifier.predict(x_test)"
   ]
  },
  {
   "cell_type": "code",
   "execution_count": null,
   "metadata": {},
   "outputs": [],
   "source": [
    "result_rf = pd.DataFrame({'PassengerId': test['PassengerId'].values, 'Survived': y_pred})"
   ]
  },
  {
   "cell_type": "code",
   "execution_count": 8,
   "metadata": {},
   "outputs": [],
   "source": [
    "result_rf.to_csv('result_rf.csv', index = False)"
   ]
  },
  {
   "cell_type": "code",
   "execution_count": null,
   "metadata": {},
   "outputs": [],
   "source": []
  }
 ],
 "metadata": {
  "kernelspec": {
   "display_name": "base",
   "language": "python",
   "name": "python3"
  },
  "language_info": {
   "codemirror_mode": {
    "name": "ipython",
    "version": 3
   },
   "file_extension": ".py",
   "mimetype": "text/x-python",
   "name": "python",
   "nbconvert_exporter": "python",
   "pygments_lexer": "ipython3",
   "version": "3.11.7"
  }
 },
 "nbformat": 4,
 "nbformat_minor": 2
}
