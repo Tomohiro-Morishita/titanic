{
 "cells": [
  {
   "cell_type": "code",
   "execution_count": 1,
   "metadata": {},
   "outputs": [],
   "source": [
    "import numpy as np\n",
    "import pandas as pd\n",
    "import matplotlib.pyplot as plt\n",
    "import seaborn as sns\n"
   ]
  },
  {
   "cell_type": "code",
   "execution_count": 4,
   "metadata": {},
   "outputs": [],
   "source": [
    "train = pd.read_csv('./data/kaggle/train.csv')\n",
    "# print(train.head())\n"
   ]
  },
  {
   "cell_type": "code",
   "execution_count": 5,
   "metadata": {},
   "outputs": [],
   "source": [
    "test = pd.read_csv('./data/kaggle/test.csv')\n",
    "# print(test.head())"
   ]
  },
  {
   "cell_type": "code",
   "execution_count": 41,
   "metadata": {},
   "outputs": [],
   "source": [
    "# print(train.describe())"
   ]
  },
  {
   "cell_type": "code",
   "execution_count": 40,
   "metadata": {},
   "outputs": [],
   "source": [
    "# print(test.describe())"
   ]
  },
  {
   "cell_type": "code",
   "execution_count": 38,
   "metadata": {},
   "outputs": [],
   "source": [
    "#print(test.info())"
   ]
  },
  {
   "cell_type": "code",
   "execution_count": 6,
   "metadata": {},
   "outputs": [
    {
     "data": {
      "image/png": "[encoded data removed]",
      "text/plain": [
       "<Figure size 640x480 with 1 Axes>"
      ]
     },
     "metadata": {},
     "output_type": "display_data"
    }
   ],
   "source": [
    "#欠損値数グラフ\n",
    "missing_values_train = train.isnull().sum()\n",
    "missing_values_train = missing_values_train[missing_values_train > 0]\n",
    "\n",
    "fig, ax = plt.subplots()\n",
    "sns.barplot(x = missing_values_train.index, y = missing_values_train.values)\n",
    "\n",
    "for i, v in enumerate(missing_values_train.values):\n",
    "    ax.text(i, v + 0.5, str(v), ha='center', fontsize=12)\n",
    "\n",
    "#plt.show()"
   ]
  },
  {
   "cell_type": "code",
   "execution_count": 47,
   "metadata": {},
   "outputs": [],
   "source": [
    "# 全データ　円グラフ\n",
    "# ラベルごとの色を指定（キー: カラム名、値: ラベルと色の辞書）\n",
    "label_colors = {\n",
    "    'Survived': {0: '#FF5733', 1: '#33FF57'},  # 0: 赤, 1: 緑\n",
    "    'Pclass': {1: '#FF5733', 2: '#33FF57', 3: '#3357FF'},  # 1: 赤, 2: 緑, 3: 青\n",
    "    'Sex': {'male': '#3357FF', 'female': '#FF5733'},  # male: 青, female: 赤\n",
    "    'SibSp': {0: '#FF5733', 1: '#FF8C00', 2: '#FFD700', 3: '#008000', 4: '#00FFFF', \n",
    "              5: '#1E90FF', 6: '#8A2BE2', 7: '#FF69B4', 8: '#A52A2A'},  # 0~7: 8色\n",
    "    'Parch': {0: '#FF5733', 1: '#FF8C00', 2: '#FFD700', 3: '#008000', 4: '#00FFFF', \n",
    "              5: '#1E90FF', 6: '#8A2BE2', 7: '#FF69B4'},  # 0~7: 8色\n",
    "    'Embarked': {'C': '#FF5733', 'Q': '#33FF57', 'S': '#3357FF'}  # C: 赤, Q: 緑, S: 青\n",
    "}\n",
    "\n",
    "columns = ['Survived', 'Pclass', 'Sex', 'SibSp', 'Parch', 'Embarked']\n",
    "\n",
    "for column in columns:\n",
    "    counts = train[column].value_counts()\n",
    "\n",
    "    # counts.index の順番に関係なく、ラベルごとの色を取得\n",
    "    colors = [label_colors[column][label] for label in counts.index]\n",
    "\n",
    "    plt.figure()\n",
    "    plt.pie(\n",
    "        counts,\n",
    "        labels=counts.index,\n",
    "        autopct='%1.1f%%',\n",
    "        textprops={'fontsize': 16},\n",
    "        colors=colors  # 色を固定\n",
    "    )\n",
    "    plt.title(f'{column} (all train data)')\n",
    "    # plt.show()\n"
   ]
  },
  {
   "cell_type": "code",
   "execution_count": 46,
   "metadata": {},
   "outputs": [],
   "source": [
    "#生存データ\n",
    "# ラベルごとの色を指定（キー: カラム名、値: ラベルと色の辞書）\n",
    "\n",
    "survived_train=train.loc[train['Survived']==1]\n",
    "label_colors = {\n",
    "    'Survived': {0: '#FF5733', 1: '#33FF57'},  # 0: 赤, 1: 緑\n",
    "    'Pclass': {1: '#FF5733', 2: '#33FF57', 3: '#3357FF'},  # 1: 赤, 2: 緑, 3: 青\n",
    "    'Sex': {'male': '#3357FF', 'female': '#FF5733'},  # male: 青, female: 赤\n",
    "    'SibSp': {0: '#FF5733', 1: '#FF8C00', 2: '#FFD700', 3: '#008000', 4: '#00FFFF', \n",
    "              5: '#1E90FF', 6: '#8A2BE2', 7: '#FF69B4', 8: '#A52A2A'},  # 0~7: 8色\n",
    "    'Parch': {0: '#FF5733', 1: '#FF8C00', 2: '#FFD700', 3: '#008000', 4: '#00FFFF', \n",
    "              5: '#1E90FF', 6: '#8A2BE2', 7: '#FF69B4'},  # 0~7: 8色\n",
    "    'Embarked': {'C': '#FF5733', 'Q': '#33FF57', 'S': '#3357FF'}  # C: 赤, Q: 緑, S: 青\n",
    "}\n",
    "\n",
    "columns = [ 'Pclass', 'Sex', 'SibSp', 'Parch', 'Embarked']\n",
    "\n",
    "for column in columns:\n",
    "    counts = survived_train[column].value_counts()\n",
    "\n",
    "    # counts.index の順番に関係なく、ラベルごとの色を取得\n",
    "    colors = [label_colors[column][label] for label in counts.index]\n",
    "\n",
    "    plt.figure()\n",
    "    plt.pie(\n",
    "        counts,\n",
    "        labels=counts.index,\n",
    "        autopct='%1.1f%%',\n",
    "        textprops={'fontsize': 16},\n",
    "        colors=colors  # 色を固定\n",
    "    )\n",
    "    plt.title(f'{column} (only survived data)')\n",
    "# plt.show()\n",
    "  "
   ]
  },
  {
   "cell_type": "code",
   "execution_count": null,
   "metadata": {},
   "outputs": [],
   "source": []
  }
 ],
 "metadata": {
  "kernelspec": {
   "display_name": "base",
   "language": "python",
   "name": "python3"
  },
  "language_info": {
   "codemirror_mode": {
    "name": "ipython",
    "version": 3
   },
   "file_extension": ".py",
   "mimetype": "text/x-python",
   "name": "python",
   "nbconvert_exporter": "python",
   "pygments_lexer": "ipython3",
   "version": "3.11.7"
  }
 },
 "nbformat": 4,
 "nbformat_minor": 2
}
