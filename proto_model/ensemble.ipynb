{
 "cells": [
  {
   "cell_type": "code",
   "execution_count": null,
   "metadata": {},
   "outputs": [],
   "source": [
    "import numpy as np\n",
    "import pandas as pd\n",
    "from sklearn.ensemble import RandomForestClassifier, VotingClassifier\n",
    "from lightgbm import LGBMClassifier\n",
    "import xgboost as xgb"
   ]
  },
  {
   "cell_type": "code",
   "execution_count": 23,
   "metadata": {},
   "outputs": [],
   "source": [
    "def ensemble_vote(train, test):\n",
    "    # xyの用意\n",
    "    x_train = train.drop(['Survived'], axis=1, inplace=False)\n",
    "    y_train = train['Survived']\n",
    "    x_test = test.drop(['PassengerId'], axis=1, inplace=False)\n",
    "    #パラメーターの用意\n",
    "    lgbm_params = {\n",
    "            'objective': 'binary',\n",
    "            'metric': 'binary_error',\n",
    "            'boosting_type': 'gbdt',\n",
    "            'num_leaves': 32,\n",
    "            'learning_rate': 0.05,\n",
    "            'feature_fraction': 0.9,\n",
    "            'random_state': 42\n",
    "        }\n",
    "    num_round = 100\n",
    "    # インスタンス化\n",
    "    lgbm = LGBMClassifier(**lgbm_params, n_estimators=num_round)\n",
    "    rf = RandomForestClassifier(n_estimators=num_round, random_state=42)\n",
    "    ensemble = VotingClassifier(estimators=[('rf', rf), ('lgbm', lgbm)], voting='soft')\n",
    "\n",
    "    ensemble.fit(x_train, y_train)\n",
    "    y_pred = ensemble.predict(x_test)\n",
    "    result = pd.DataFrame({'PassengerId': test['PassengerId'], 'Survived': y_pred})\n",
    "    return result\n",
    "\n"
   ]
  },
  {
   "cell_type": "code",
   "execution_count": 8,
   "metadata": {},
   "outputs": [],
   "source": [
    "def ensemble_stakking(train, test):\n",
    "     # xyの用意\n",
    "    x_train = train.drop(['Survived'], axis=1, inplace=False)\n",
    "    y_train = train['Survived']\n",
    "    x_test = test.drop(['PassengerId'], axis=1, inplace=False)\n",
    "    #パラメーターの用意\n",
    "    lgbm_params = {\n",
    "            'objective': 'binary',\n",
    "            'metric': 'binary_error',\n",
    "            'boosting_type': 'gbdt',\n",
    "            'num_leaves': 32,\n",
    "            'learning_rate': 0.05,\n",
    "            'feature_fraction': 0.9,\n",
    "            'random_state': 42\n",
    "        }\n",
    "    num_round = 100\n",
    "    # インスタンス化\n",
    "    lgbm = LGBMClassifier(**lgbm_params, n_estimators=num_round)\n",
    "    rf = RandomForestClassifier(n_estimators=num_round, random_state=42)\n",
    "    # ベースモデル学習\n",
    "    rf.fit(x_train, y_train)\n",
    "    lgbm.fit(x_train, y_train)\n",
    "    # 各Xデータから、予測を出す\n",
    "    train_preds_rf = rf.predict(x_train)\n",
    "    train_preds_lgbm = lgbm.predict(x_train)\n",
    "    test_preds_rf = rf.predict(x_test)\n",
    "    test_preds_lgbm = lgbm.predict(x_test)\n",
    "    # 予測からメタデータを出す\n",
    "    meta_x_train = np.column_stack((train_preds_rf, train_preds_lgbm))\n",
    "    meta_x_test = np.column_stack((test_preds_rf, test_preds_lgbm))\n",
    "    # メタモデルの訓練\n",
    "    meta_model = xgb.XGBRegressor(n_estimators=100, random_state=42)\n",
    "    meta_model.fit(meta_x_train, y_train)\n",
    "    # メタモデルの予想\n",
    "    final_preds = meta_model.predict(meta_x_test)\n",
    "    final_preds_binary = (final_preds >= 0.5).astype(int)\n",
    "    result = pd.DataFrame({'PassengerId': test['PassengerId'].values, 'Survived': final_preds_binary})\n",
    "    return result"
   ]
  },
  {
   "cell_type": "code",
   "execution_count": null,
   "metadata": {},
   "outputs": [],
   "source": []
  }
 ],
 "metadata": {
  "kernelspec": {
   "display_name": "base",
   "language": "python",
   "name": "python3"
  },
  "language_info": {
   "codemirror_mode": {
    "name": "ipython",
    "version": 3
   },
   "file_extension": ".py",
   "mimetype": "text/x-python",
   "name": "python",
   "nbconvert_exporter": "python",
   "pygments_lexer": "ipython3",
   "version": "3.11.7"
  }
 },
 "nbformat": 4,
 "nbformat_minor": 2
}
