{
 "cells": [
  {
   "cell_type": "code",
   "execution_count": 2,
   "metadata": {},
   "outputs": [],
   "source": [
    "import numpy as np\n",
    "import pandas as pd\n",
    "\n",
    "train = pd.read_csv('../data/kaggle/train.csv')\n",
    "test = pd.read_csv('../data/kaggle/test.csv')"
   ]
  },
  {
   "cell_type": "code",
   "execution_count": null,
   "metadata": {},
   "outputs": [],
   "source": [
    "#シンプルな前処理\n",
    "def process(data):\n",
    "    data_processed = data.copy()\n",
    "\n",
    "    data_processed['Sex'] = data_processed['Sex'].map({'female':0, 'male':1})\n",
    "    data_processed['Embarked'] = data_processed['Embarked'].map({'C':0, 'Q':1, 'S':2}).astype('Int64')\n",
    "    data_processed.drop(['Name','Ticket', 'Cabin'], axis=1, inplace=True)\n",
    "    data_processed['Age'] = data_processed['Age'].fillna(data_processed[\"Age\"].median())\n",
    "    data_processed['Embarked'] = data_processed['Embarked'].fillna(data_processed['Embarked'].mode()[0])\n",
    "    data_processed['Fare'] = data_processed['Fare'].fillna(data_processed['Fare'].median())\n",
    "    return data_processed\n",
    "\n",
    "train_processed = process(train).drop(['PassengerId'], axis=1)\n",
    "test_processed = process(test)"
   ]
  },
  {
   "cell_type": "code",
   "execution_count": 6,
   "metadata": {},
   "outputs": [
    {
     "name": "stdout",
     "output_type": "stream",
     "text": [
      "   Survived  Pclass  Sex   Age  SibSp  Parch     Fare  Embarked\n",
      "0         0       3    1  22.0      1      0   7.2500         2\n",
      "1         1       1    0  38.0      1      0  71.2833         0\n",
      "2         1       3    0  26.0      0      0   7.9250         2\n",
      "3         1       1    0  35.0      1      0  53.1000         2\n",
      "4         0       3    1  35.0      0      0   8.0500         2\n",
      "   PassengerId  Pclass  Sex   Age  SibSp  Parch     Fare  Embarked\n",
      "0          892       3    1  34.5      0      0   7.8292         1\n",
      "1          893       3    0  47.0      1      0   7.0000         2\n",
      "2          894       2    1  62.0      0      0   9.6875         1\n",
      "3          895       3    1  27.0      0      0   8.6625         2\n",
      "4          896       3    0  22.0      1      1  12.2875         2\n"
     ]
    }
   ],
   "source": [
    "print(train_processed.head())\n",
    "print(test_processed.head())"
   ]
  },
  {
   "cell_type": "code",
   "execution_count": 7,
   "metadata": {},
   "outputs": [],
   "source": [
    "train_processed.to_csv('../data/baseline/train.csv', index=False)\n",
    "test_processed.to_csv('../data/baseline/test.csv', index=False)"
   ]
  },
  {
   "cell_type": "code",
   "execution_count": null,
   "metadata": {},
   "outputs": [],
   "source": []
  }
 ],
 "metadata": {
  "kernelspec": {
   "display_name": "base",
   "language": "python",
   "name": "python3"
  },
  "language_info": {
   "codemirror_mode": {
    "name": "ipython",
    "version": 3
   },
   "file_extension": ".py",
   "mimetype": "text/x-python",
   "name": "python",
   "nbconvert_exporter": "python",
   "pygments_lexer": "ipython3",
   "version": "3.11.7"
  }
 },
 "nbformat": 4,
 "nbformat_minor": 2
}
