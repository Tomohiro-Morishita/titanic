{
 "cells": [
  {
   "cell_type": "code",
   "execution_count": 1,
   "metadata": {},
   "outputs": [],
   "source": [
    "import numpy as np\n",
    "import pandas as pd\n",
    "\n",
    "train = pd.read_csv('../data/kaggle/train.csv')\n",
    "test = pd.read_csv('../data/kaggle/test.csv')"
   ]
  },
  {
   "cell_type": "code",
   "execution_count": 6,
   "metadata": {},
   "outputs": [],
   "source": [
    "def newbase_ex_parch(data):\n",
    "    data_processed = data.copy()\n",
    "\n",
    "    data_processed['Miss'] = data_processed['Age'].isnull().astype(int)\n",
    "    data_processed['Sex'] = data_processed['Sex'].map({'female':0, 'male':1})\n",
    "    data_processed['Embarked'] = data_processed['Embarked'].fillna(data_processed['Embarked'].mode()[0])\n",
    "    data_processed = pd.get_dummies(data_processed, columns=['Embarked'], prefix='Embarked', dtype=int)\n",
    "    data_processed.drop(['Name','Ticket', 'Cabin', 'Parch'], axis=1, inplace=True)\n",
    "    data_processed['Age'] = data_processed['Age'].fillna(data_processed[\"Age\"].median())\n",
    "    data_processed['Fare'] = data_processed['Fare'].fillna(data_processed['Fare'].median())\n",
    "    return data_processed\n",
    "\n",
    "train_ex_parch = newbase_ex_parch(train).drop(['PassengerId'], axis=1)\n",
    "test_ex_parch = newbase_ex_parch(test)"
   ]
  },
  {
   "cell_type": "code",
   "execution_count": 8,
   "metadata": {},
   "outputs": [
    {
     "name": "stdout",
     "output_type": "stream",
     "text": [
      "   Survived  Pclass  Sex   Age  SibSp     Fare  Miss  Embarked_C  Embarked_Q  \\\n",
      "0         0       3    1  22.0      1   7.2500     0           0           0   \n",
      "1         1       1    0  38.0      1  71.2833     0           1           0   \n",
      "2         1       3    0  26.0      0   7.9250     0           0           0   \n",
      "3         1       1    0  35.0      1  53.1000     0           0           0   \n",
      "4         0       3    1  35.0      0   8.0500     0           0           0   \n",
      "\n",
      "   Embarked_S  \n",
      "0           1  \n",
      "1           0  \n",
      "2           1  \n",
      "3           1  \n",
      "4           1  \n",
      "   PassengerId  Pclass  Sex   Age  SibSp     Fare  Miss  Embarked_C  \\\n",
      "0          892       3    1  34.5      0   7.8292     0           0   \n",
      "1          893       3    0  47.0      1   7.0000     0           0   \n",
      "2          894       2    1  62.0      0   9.6875     0           0   \n",
      "3          895       3    1  27.0      0   8.6625     0           0   \n",
      "4          896       3    0  22.0      1  12.2875     0           0   \n",
      "\n",
      "   Embarked_Q  Embarked_S  \n",
      "0           1           0  \n",
      "1           0           1  \n",
      "2           1           0  \n",
      "3           0           1  \n",
      "4           0           1  \n"
     ]
    }
   ],
   "source": [
    "print(train_ex_parch.head())\n",
    "print(test_ex_parch.head())"
   ]
  },
  {
   "cell_type": "code",
   "execution_count": 9,
   "metadata": {},
   "outputs": [],
   "source": [
    "train_ex_parch.to_csv('../data/ex_parch/train.csv', index=False)\n",
    "test_ex_parch.to_csv('../data/ex_parch/test.csv', index=False)"
   ]
  },
  {
   "cell_type": "code",
   "execution_count": 10,
   "metadata": {},
   "outputs": [],
   "source": [
    "def newbase_ex_agemiss(data):\n",
    "    data_processed = data.copy()\n",
    "\n",
    "    data_processed['Sex'] = data_processed['Sex'].map({'female':0, 'male':1})\n",
    "    data_processed['Embarked'] = data_processed['Embarked'].fillna(data_processed['Embarked'].mode()[0])\n",
    "    data_processed = pd.get_dummies(data_processed, columns=['Embarked'], prefix='Embarked', dtype=int)\n",
    "    data_processed.drop(['Name','Ticket', 'Cabin'], axis=1, inplace=True)\n",
    "    data_processed['Age'] = data_processed['Age'].fillna(data_processed[\"Age\"].median())\n",
    "    data_processed['Fare'] = data_processed['Fare'].fillna(data_processed['Fare'].median())\n",
    "    return data_processed\n",
    "\n",
    "train_ex_agemiss = newbase_ex_agemiss(train).drop(['PassengerId'], axis=1)\n",
    "test_ex_agemiss = newbase_ex_agemiss(test)"
   ]
  },
  {
   "cell_type": "code",
   "execution_count": 11,
   "metadata": {},
   "outputs": [
    {
     "name": "stdout",
     "output_type": "stream",
     "text": [
      "   Survived  Pclass  Sex   Age  SibSp  Parch     Fare  Embarked_C  Embarked_Q  \\\n",
      "0         0       3    1  22.0      1      0   7.2500           0           0   \n",
      "1         1       1    0  38.0      1      0  71.2833           1           0   \n",
      "2         1       3    0  26.0      0      0   7.9250           0           0   \n",
      "3         1       1    0  35.0      1      0  53.1000           0           0   \n",
      "4         0       3    1  35.0      0      0   8.0500           0           0   \n",
      "\n",
      "   Embarked_S  \n",
      "0           1  \n",
      "1           0  \n",
      "2           1  \n",
      "3           1  \n",
      "4           1  \n",
      "   PassengerId  Pclass  Sex   Age  SibSp  Parch     Fare  Embarked_C  \\\n",
      "0          892       3    1  34.5      0      0   7.8292           0   \n",
      "1          893       3    0  47.0      1      0   7.0000           0   \n",
      "2          894       2    1  62.0      0      0   9.6875           0   \n",
      "3          895       3    1  27.0      0      0   8.6625           0   \n",
      "4          896       3    0  22.0      1      1  12.2875           0   \n",
      "\n",
      "   Embarked_Q  Embarked_S  \n",
      "0           1           0  \n",
      "1           0           1  \n",
      "2           1           0  \n",
      "3           0           1  \n",
      "4           0           1  \n"
     ]
    }
   ],
   "source": [
    "print(train_ex_agemiss.head())\n",
    "print(test_ex_agemiss.head())\n"
   ]
  },
  {
   "cell_type": "code",
   "execution_count": 12,
   "metadata": {},
   "outputs": [],
   "source": [
    "\n",
    "train_ex_agemiss.to_csv('../data/ex_agemiss/train.csv', index=False)\n",
    "test_ex_agemiss.to_csv('../data/ex_agemiss/test.csv', index=False)"
   ]
  },
  {
   "cell_type": "code",
   "execution_count": 14,
   "metadata": {},
   "outputs": [],
   "source": [
    "def newbase_ex_both(data):\n",
    "    data_processed = data.copy()\n",
    "\n",
    "    data_processed['Sex'] = data_processed['Sex'].map({'female':0, 'male':1})\n",
    "    data_processed['Embarked'] = data_processed['Embarked'].fillna(data_processed['Embarked'].mode()[0])\n",
    "    data_processed = pd.get_dummies(data_processed, columns=['Embarked'], prefix='Embarked', dtype=int)\n",
    "    data_processed.drop(['Name','Ticket', 'Cabin', 'Parch'], axis=1, inplace=True)\n",
    "    data_processed['Age'] = data_processed['Age'].fillna(data_processed[\"Age\"].median())\n",
    "    data_processed['Fare'] = data_processed['Fare'].fillna(data_processed['Fare'].median())\n",
    "    return data_processed\n",
    "\n",
    "train_ex_both = newbase_ex_both(train).drop(['PassengerId'], axis=1)\n",
    "test_ex_both = newbase_ex_both(test)"
   ]
  },
  {
   "cell_type": "code",
   "execution_count": 15,
   "metadata": {},
   "outputs": [
    {
     "name": "stdout",
     "output_type": "stream",
     "text": [
      "   Survived  Pclass  Sex   Age  SibSp     Fare  Embarked_C  Embarked_Q  \\\n",
      "0         0       3    1  22.0      1   7.2500           0           0   \n",
      "1         1       1    0  38.0      1  71.2833           1           0   \n",
      "2         1       3    0  26.0      0   7.9250           0           0   \n",
      "3         1       1    0  35.0      1  53.1000           0           0   \n",
      "4         0       3    1  35.0      0   8.0500           0           0   \n",
      "\n",
      "   Embarked_S  \n",
      "0           1  \n",
      "1           0  \n",
      "2           1  \n",
      "3           1  \n",
      "4           1  \n",
      "   PassengerId  Pclass  Sex   Age  SibSp     Fare  Embarked_C  Embarked_Q  \\\n",
      "0          892       3    1  34.5      0   7.8292           0           1   \n",
      "1          893       3    0  47.0      1   7.0000           0           0   \n",
      "2          894       2    1  62.0      0   9.6875           0           1   \n",
      "3          895       3    1  27.0      0   8.6625           0           0   \n",
      "4          896       3    0  22.0      1  12.2875           0           0   \n",
      "\n",
      "   Embarked_S  \n",
      "0           0  \n",
      "1           1  \n",
      "2           0  \n",
      "3           1  \n",
      "4           1  \n"
     ]
    }
   ],
   "source": [
    "print(train_ex_both.head())\n",
    "print(test_ex_both.head())"
   ]
  },
  {
   "cell_type": "code",
   "execution_count": 16,
   "metadata": {},
   "outputs": [],
   "source": [
    "train_ex_both.to_csv('../data/ex_both/train.csv', index=False)\n",
    "test_ex_both.to_csv('../data/ex_both/test.csv', index=False)"
   ]
  },
  {
   "cell_type": "code",
   "execution_count": null,
   "metadata": {},
   "outputs": [],
   "source": []
  }
 ],
 "metadata": {
  "kernelspec": {
   "display_name": "base",
   "language": "python",
   "name": "python3"
  },
  "language_info": {
   "codemirror_mode": {
    "name": "ipython",
    "version": 3
   },
   "file_extension": ".py",
   "mimetype": "text/x-python",
   "name": "python",
   "nbconvert_exporter": "python",
   "pygments_lexer": "ipython3",
   "version": "3.11.7"
  }
 },
 "nbformat": 4,
 "nbformat_minor": 2
}
