{
 "cells": [
  {
   "cell_type": "code",
   "execution_count": 1,
   "metadata": {},
   "outputs": [],
   "source": [
    "import numpy as np\n",
    "import pandas as pd\n",
    "from sklearn.model_selection import train_test_split\n",
    "from sklearn.utils import resample\n"
   ]
  },
  {
   "cell_type": "code",
   "execution_count": 5,
   "metadata": {},
   "outputs": [],
   "source": [
    "train = pd.read_csv('../data/kaggle/train.csv')\n",
    "test = pd.read_csv('../data/kaggle/test.csv')"
   ]
  },
  {
   "cell_type": "code",
   "execution_count": 6,
   "metadata": {},
   "outputs": [
    {
     "name": "stdout",
     "output_type": "stream",
     "text": [
      "テストデータのカテゴリ比率:\n",
      "Embarked\n",
      "S    0.645933\n",
      "C    0.244019\n",
      "Q    0.110048\n",
      "Name: proportion, dtype: float64\n",
      "調整後の学習データのカテゴリ比率:\n",
      "Embarked\n",
      "S    0.646067\n",
      "C    0.243820\n",
      "Q    0.110112\n",
      "Name: proportion, dtype: float64\n"
     ]
    }
   ],
   "source": [
    "test_category_ratios = test['Embarked'].value_counts(normalize=True)\n",
    "print(\"テストデータのカテゴリ比率:\")\n",
    "print(test_category_ratios)\n",
    "\n",
    "# 【3】 カテゴリ変数の割合をテストデータに合わせる\n",
    "train_balanced = []\n",
    "\n",
    "\n",
    "for category, ratio in test_category_ratios.items():\n",
    "    # 目標とするサンプル数\n",
    "    desired_count = int(ratio * len(train))\n",
    "    \n",
    "    # 学習データ内の該当カテゴリのデータを取得\n",
    "    X_subset = train[train['Embarked'] == category]\n",
    "    \n",
    "    if len(X_subset) > desired_count:\n",
    "        # 多すぎる場合はランダムに削減\n",
    "        X_subset= resample(X_subset,  replace=False, n_samples=desired_count, random_state=42)\n",
    "    elif len(X_subset) < desired_count:\n",
    "        # 少なすぎる場合はコピーで増やす\n",
    "        X_subset = resample(X_subset, replace=True, n_samples=desired_count, random_state=42)\n",
    "    \n",
    "    # リストに追加\n",
    "    train_balanced.append(X_subset)\n",
    "    \n",
    "\n",
    "# リストをデータフレームに変換\n",
    "train_balanced = pd.concat(train_balanced)\n",
    "\n",
    "\n",
    "# 【4】 調整後の学習データのカテゴリ比率を確認\n",
    "train_category_ratios = train_balanced['Embarked'].value_counts(normalize=True)\n",
    "print(\"調整後の学習データのカテゴリ比率:\")\n",
    "print(train_category_ratios)\n"
   ]
  },
  {
   "cell_type": "code",
   "execution_count": 11,
   "metadata": {},
   "outputs": [],
   "source": [
    "#欠損値の数を特徴量として追加\n",
    "def process(data):\n",
    "    data_processed = data.copy()\n",
    "\n",
    "    data_processed['Miss'] = data_processed['Age'].isnull().astype(int)\n",
    "    data_processed['Sex'] = data_processed['Sex'].map({'female':0, 'male':1})\n",
    "    data_processed['Embarked'] = data_processed['Embarked'].fillna(data_processed['Embarked'].mode()[0])\n",
    "    data_processed = pd.get_dummies(data_processed, columns=['Embarked'], prefix='Embarked', dtype=int)\n",
    "    data_processed.drop(['Name','Ticket', 'Cabin'], axis=1, inplace=True)\n",
    "    data_processed['Age'] = data_processed['Age'].fillna(data_processed[\"Age\"].median())\n",
    "    data_processed['Fare'] = data_processed['Fare'].fillna(data_processed['Fare'].median())\n",
    "    return data_processed\n",
    "\n",
    "train_balanced = process(train_balanced).drop(['PassengerId'], axis=1)\n",
    "test_processed = process(test)"
   ]
  },
  {
   "cell_type": "code",
   "execution_count": 12,
   "metadata": {},
   "outputs": [
    {
     "data": {
      "text/html": [
       "<div>\n",
       "<style scoped>\n",
       "    .dataframe tbody tr th:only-of-type {\n",
       "        vertical-align: middle;\n",
       "    }\n",
       "\n",
       "    .dataframe tbody tr th {\n",
       "        vertical-align: top;\n",
       "    }\n",
       "\n",
       "    .dataframe thead th {\n",
       "        text-align: right;\n",
       "    }\n",
       "</style>\n",
       "<table border=\"1\" class=\"dataframe\">\n",
       "  <thead>\n",
       "    <tr style=\"text-align: right;\">\n",
       "      <th></th>\n",
       "      <th>Survived</th>\n",
       "      <th>Pclass</th>\n",
       "      <th>Sex</th>\n",
       "      <th>Age</th>\n",
       "      <th>SibSp</th>\n",
       "      <th>Parch</th>\n",
       "      <th>Fare</th>\n",
       "      <th>Miss</th>\n",
       "      <th>Embarked_C</th>\n",
       "      <th>Embarked_Q</th>\n",
       "      <th>Embarked_S</th>\n",
       "    </tr>\n",
       "  </thead>\n",
       "  <tbody>\n",
       "    <tr>\n",
       "      <th>872</th>\n",
       "      <td>0</td>\n",
       "      <td>1</td>\n",
       "      <td>1</td>\n",
       "      <td>33.0</td>\n",
       "      <td>0</td>\n",
       "      <td>0</td>\n",
       "      <td>5.0000</td>\n",
       "      <td>0</td>\n",
       "      <td>0</td>\n",
       "      <td>0</td>\n",
       "      <td>1</td>\n",
       "    </tr>\n",
       "    <tr>\n",
       "      <th>816</th>\n",
       "      <td>0</td>\n",
       "      <td>3</td>\n",
       "      <td>0</td>\n",
       "      <td>23.0</td>\n",
       "      <td>0</td>\n",
       "      <td>0</td>\n",
       "      <td>7.9250</td>\n",
       "      <td>0</td>\n",
       "      <td>0</td>\n",
       "      <td>0</td>\n",
       "      <td>1</td>\n",
       "    </tr>\n",
       "    <tr>\n",
       "      <th>824</th>\n",
       "      <td>0</td>\n",
       "      <td>3</td>\n",
       "      <td>1</td>\n",
       "      <td>2.0</td>\n",
       "      <td>4</td>\n",
       "      <td>1</td>\n",
       "      <td>39.6875</td>\n",
       "      <td>0</td>\n",
       "      <td>0</td>\n",
       "      <td>0</td>\n",
       "      <td>1</td>\n",
       "    </tr>\n",
       "    <tr>\n",
       "      <th>413</th>\n",
       "      <td>0</td>\n",
       "      <td>2</td>\n",
       "      <td>1</td>\n",
       "      <td>28.0</td>\n",
       "      <td>0</td>\n",
       "      <td>0</td>\n",
       "      <td>0.0000</td>\n",
       "      <td>1</td>\n",
       "      <td>0</td>\n",
       "      <td>0</td>\n",
       "      <td>1</td>\n",
       "    </tr>\n",
       "    <tr>\n",
       "      <th>103</th>\n",
       "      <td>0</td>\n",
       "      <td>3</td>\n",
       "      <td>1</td>\n",
       "      <td>33.0</td>\n",
       "      <td>0</td>\n",
       "      <td>0</td>\n",
       "      <td>8.6542</td>\n",
       "      <td>0</td>\n",
       "      <td>0</td>\n",
       "      <td>0</td>\n",
       "      <td>1</td>\n",
       "    </tr>\n",
       "  </tbody>\n",
       "</table>\n",
       "</div>"
      ],
      "text/plain": [
       "     Survived  Pclass  Sex   Age  SibSp  Parch     Fare  Miss  Embarked_C  \\\n",
       "872         0       1    1  33.0      0      0   5.0000     0           0   \n",
       "816         0       3    0  23.0      0      0   7.9250     0           0   \n",
       "824         0       3    1   2.0      4      1  39.6875     0           0   \n",
       "413         0       2    1  28.0      0      0   0.0000     1           0   \n",
       "103         0       3    1  33.0      0      0   8.6542     0           0   \n",
       "\n",
       "     Embarked_Q  Embarked_S  \n",
       "872           0           1  \n",
       "816           0           1  \n",
       "824           0           1  \n",
       "413           0           1  \n",
       "103           0           1  "
      ]
     },
     "execution_count": 12,
     "metadata": {},
     "output_type": "execute_result"
    }
   ],
   "source": [
    "train_balanced.head()"
   ]
  },
  {
   "cell_type": "code",
   "execution_count": 14,
   "metadata": {},
   "outputs": [],
   "source": [
    "train_balanced.to_csv('../data/resumple/train.csv', index=False)\n",
    "test_processed.to_csv('../data/resumple/test.csv', index=False)"
   ]
  },
  {
   "cell_type": "code",
   "execution_count": 16,
   "metadata": {},
   "outputs": [
    {
     "data": {
      "text/plain": [
       "890"
      ]
     },
     "execution_count": 16,
     "metadata": {},
     "output_type": "execute_result"
    }
   ],
   "source": [
    "len(train_balanced)"
   ]
  },
  {
   "cell_type": "code",
   "execution_count": null,
   "metadata": {},
   "outputs": [],
   "source": []
  }
 ],
 "metadata": {
  "kernelspec": {
   "display_name": "base",
   "language": "python",
   "name": "python3"
  },
  "language_info": {
   "codemirror_mode": {
    "name": "ipython",
    "version": 3
   },
   "file_extension": ".py",
   "mimetype": "text/x-python",
   "name": "python",
   "nbconvert_exporter": "python",
   "pygments_lexer": "ipython3",
   "version": "3.11.7"
  }
 },
 "nbformat": 4,
 "nbformat_minor": 2
}
