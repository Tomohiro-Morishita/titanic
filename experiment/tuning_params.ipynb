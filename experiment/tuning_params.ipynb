{
 "cells": [
  {
   "cell_type": "code",
   "execution_count": 1,
   "metadata": {},
   "outputs": [
    {
     "data": {
      "text/plain": [
       "<module 'model' from 'c:\\\\Users\\\\mocch\\\\OneDrive\\\\デスクトップ\\\\vsc_file\\\\data_final\\\\experiment\\\\model.py'>"
      ]
     },
     "execution_count": 1,
     "metadata": {},
     "output_type": "execute_result"
    }
   ],
   "source": [
    "from sklearn.model_selection import GridSearchCV, StratifiedKFold\n",
    "import lightgbm as lgb\n",
    "import numpy as np\n",
    "import pandas as pd\n",
    "import optuna\n",
    "import importlib\n",
    "import model\n",
    "\n",
    "importlib.reload(model) \n",
    "\n"
   ]
  },
  {
   "cell_type": "code",
   "execution_count": null,
   "metadata": {},
   "outputs": [],
   "source": [
    "param_grid = {\n",
    "    'learning_rate': [0.05, 0.1],\n",
    "    'num_leaves': [31, 50, 100],\n",
    "    'max_depth': [-1, 5, 10],\n",
    "    'n_estimators': [100, 150, 200],\n",
    "    'feature_fraction': [0.8, 0.9, 1.0],\n",
    "    'bagging_fraction' : [0.8, 0.9, 1.0]\n",
    "}\n",
    "\n",
    "# KFold交差検証（StratifiedKFoldを使用してクラスの分布を保つ）\n",
    "kf = StratifiedKFold(n_splits=5, shuffle=True, random_state=42)\n",
    "\n",
    "# LightGBMのインスタンス\n",
    "lgbm = lgb.LGBMClassifier()\n",
    "\n",
    "# グリッドサーチの設定\n",
    "grid_search = GridSearchCV(\n",
    "    estimator=lgbm,  # 使用するモデル\n",
    "    param_grid=param_grid,  # 探索するパラメーターのグリッド\n",
    "    cv=kf,  # KFold交差検証\n",
    "    scoring='accuracy',  # 精度を評価指標として使用\n",
    "    n_jobs=-1,  # 並列計算を使って計算を高速化\n",
    "    verbose=1  # グリッドサーチの進捗を表示\n",
    ")\n",
    "\n",
    "train = pd.read_csv('../data/baseline/train.csv')\n",
    "x_train = train.drop(['Survived'], axis=1, inplace=False)\n",
    "y_train = train['Survived']\n",
    "\n",
    "# グリッドサーチの実行\n",
    "grid_search.fit(x_train, y_train)\n",
    "\n",
    "# 最適なパラメーターとスコア\n",
    "print(f\"Best Parameters: {grid_search.best_params_}\")\n",
    "print(f\"Best Cross-validation Accuracy: {grid_search.best_score_}\")"
   ]
  },
  {
   "cell_type": "markdown",
   "metadata": {},
   "source": [
    "Best Parameters: {'bagging_fraction': 0.8, \n",
    "                  'feature_fraction': 0.8,\n",
    "                    'learning_rate': 0.05, \n",
    "                    'max_depth': 5, \n",
    "                    'n_estimators': 100, \n",
    "                    'num_leaves': 31\n",
    "                    }\n",
    "Best Cross-validation Accuracy: 0.8462243424769318"
   ]
  },
  {
   "cell_type": "code",
   "execution_count": null,
   "metadata": {},
   "outputs": [],
   "source": [
    "input_train = pd.read_csv('../data/new_base/train.csv')\n",
    "input_test = pd.read_csv('../data/new_base/test.csv')\n",
    "\n",
    "def objective(trial):\n",
    "    # ここでパラメータの範囲を定義\n",
    "    params = {\n",
    "        \"objective\": \"binary\",\n",
    "        \"metric\": \"binary_error\",\n",
    "        \"verbosity\": -1,\n",
    "        \"boosting_type\": \"gbdt\",\n",
    "        \"learning_rate\": trial.suggest_loguniform(\"learning_rate\", 0.01, 0.3),\n",
    "        \"num_leaves\": trial.suggest_int(\"num_leaves\", 10, 100),\n",
    "        \"max_depth\": trial.suggest_int(\"max_depth\", 3, 12),\n",
    "        \"min_child_samples\": trial.suggest_int(\"min_child_samples\", 5, 50),\n",
    "        \"subsample\": trial.suggest_uniform(\"subsample\", 0.3, 0.9),\n",
    "        \"colsample_bytree\": trial.suggest_uniform(\"colsample_bytree\", 0.3, 0.9),\n",
    "        \"lambda_l1\": trial.suggest_loguniform(\"lambda_l1\", 1e-8, 10.0),\n",
    "        \"lambda_l2\": trial.suggest_loguniform(\"lambda_l2\", 1e-8, 10.0),\n",
    "    }\n",
    "\n",
    "    # k_gbm を呼び出してスコアを計算\n",
    "    _, _, scores = model.k_gbm(input_train, input_test, params, n_splits=5)\n",
    "    \n",
    "    # 平均スコアを返す（Optuna はこれを最大化する）\n",
    "    return np.mean(scores)\n",
    "\n",
    "# Optuna の最適化実行\n",
    "study = optuna.create_study(direction=\"maximize\")  # 精度を最大化\n",
    "study.optimize(objective, n_trials=50)\n",
    "\n",
    "# 最適なパラメータの表示\n",
    "print(\"Best parameters:\", study.best_params)\n",
    "print(\"Best Accuracy:\", study.best_value)"
   ]
  },
  {
   "cell_type": "markdown",
   "metadata": {},
   "source": [
    "Best parameters: {'learning_rate': 0.1109006773045451, 'num_leaves': 64, 'max_depth': 11, 'min_child_samples': 9, 'subsample': 0.5623226907045367, 'colsample_bytree': 0.5737897762821246, 'lambda_l1': 0.15874498150345134, 'lambda_l2': 0.0008756575871445052}\n",
    "Best Accuracy: 0.8574602975331116"
   ]
  },
  {
   "cell_type": "markdown",
   "metadata": {},
   "source": [
    "best_params = {\n",
    "     'learning_rate': 0.1109006773045451,\n",
    "     'num_leaves': 64,\n",
    "     'max_depth': 11,\n",
    "     'min_child_samples': 9,\n",
    "     'subsample': 0.5623226907045367,\n",
    "     'colsample_bytree': 0.5737897762821246, \n",
    "     'lambda_l1': 0.15874498150345134, \n",
    "     'lambda_l2': 0.0008756575871445052\n",
    "     }"
   ]
  }
 ],
 "metadata": {
  "kernelspec": {
   "display_name": "base",
   "language": "python",
   "name": "python3"
  },
  "language_info": {
   "codemirror_mode": {
    "name": "ipython",
    "version": 3
   },
   "file_extension": ".py",
   "mimetype": "text/x-python",
   "name": "python",
   "nbconvert_exporter": "python",
   "pygments_lexer": "ipython3",
   "version": "3.11.7"
  }
 },
 "nbformat": 4,
 "nbformat_minor": 2
}
