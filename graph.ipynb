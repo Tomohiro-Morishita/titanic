{
 "cells": [
  {
   "cell_type": "code",
   "execution_count": 2,
   "metadata": {},
   "outputs": [],
   "source": [
    "import matplotlib.pyplot as plt\n",
    "\n"
   ]
  },
  {
   "cell_type": "code",
   "execution_count": 5,
   "metadata": {},
   "outputs": [],
   "source": [
    "# データの準備（例）\n",
    "categories = ['LGBM','RF', 'stakking', 'vote']\n",
    "values = [0.77033, 0.75358, 0.75358, 0.76315]\n",
    "\n",
    "# 棒グラフの作成\n",
    "plt.bar(categories, values)\n",
    "\n",
    "# グラフのタイトルと軸ラベルを設定\n",
    "plt.title('RF-vs-LGBM-vs-vote-vs-stakking')\n",
    "plt.xlabel('model')\n",
    "plt.ylabel('accuracy')\n",
    "plt.ylim(0.70, max(values) + 0.1) \n",
    "\n",
    "for i, value in enumerate(values):\n",
    "    plt.text(i, value + 0.01, f'{value}', ha='center', va='bottom', fontsize=10)\n",
    "# グラフを表示\n",
    "plt.close()\n"
   ]
  },
  {
   "cell_type": "code",
   "execution_count": 1,
   "metadata": {},
   "outputs": [],
   "source": [
    "# データの準備（例）\n",
    "categories = ['LGBM','RF', 'stakking', 'vote']\n",
    "values = [0.77033, 0.75358, 0.75358, 0.76315]\n",
    "\n",
    "# 棒グラフの作成\n",
    "plt.bar(categories, values)\n",
    "\n",
    "# グラフのタイトルと軸ラベルを設定\n",
    "plt.title('baseline-vs-miss_column')\n",
    "plt.xlabel('model')\n",
    "plt.ylabel('accuracy')\n",
    "plt.ylim(0.70, max(values) + 0.1) \n",
    "\n",
    "for i, value in enumerate(values):\n",
    "    plt.text(i, value + 0.01, f'{value}', ha='center', va='bottom', fontsize=10)\n",
    "# グラフを表示\n",
    "plt.close()"
   ]
  },
  {
   "cell_type": "code",
   "execution_count": null,
   "metadata": {},
   "outputs": [],
   "source": [
    "import numpy as np\n",
    "import matplotlib.pyplot as plt\n",
    "\n",
    "# モデル名\n",
    "models = ['LGBM', 'RF', 'stakking', 'vote']\n",
    "# 学習データごとの正答率（例: Data1, Data2）\n",
    "accuracy_baseline = [0.85, 0.88, 0.82, 0.90]  # 学習データ1の正答率\n",
    "accuracy_data2 = [0.80, 0.86, 0.79, 0.88]  # 学習データ2の正答率\n",
    "\n",
    "# X軸の位置を設定\n",
    "x = np.arange(len(models))\n",
    "width = 0.3  # 棒の幅\n",
    "\n",
    "# グラフの描画\n",
    "fig, ax = plt.subplots(figsize=(8, 5))\n",
    "bars1 = ax.bar(x - width/2, accuracy_baseline, width, label='Data1', color='blue', alpha=0.7)\n",
    "bars2 = ax.bar(x + width/2, accuracy_data2, width, label='Data2', color='orange', alpha=0.7)\n",
    "\n",
    "# ラベル・タイトル\n",
    "ax.set_xlabel('Model')\n",
    "ax.set_ylabel('Accuracy')\n",
    "ax.set_title('Comparison of Accuracy for Different Training Data')\n",
    "ax.set_xticks(x)\n",
    "ax.set_xticklabels(models)\n",
    "ax.legend()\n",
    "\n",
    "# 数値を棒の上に表示\n",
    "for bars in [bars1, bars2]:\n",
    "    for bar in bars:\n",
    "        height = bar.get_height()\n",
    "        ax.text(bar.get_x() + bar.get_width()/2, height, f'{height:.2f}', ha='center', va='bottom')\n",
    "\n",
    "# グラフを表示\n",
    "plt.ylim(0.75, 0.95)  # Y軸の範囲を調整\n",
    "plt.grid(axis='y', linestyle='--', alpha=0.7)\n",
    "plt.show()"
   ]
  }
 ],
 "metadata": {
  "kernelspec": {
   "display_name": "base",
   "language": "python",
   "name": "python3"
  },
  "language_info": {
   "codemirror_mode": {
    "name": "ipython",
    "version": 3
   },
   "file_extension": ".py",
   "mimetype": "text/x-python",
   "name": "python",
   "nbconvert_exporter": "python",
   "pygments_lexer": "ipython3",
   "version": "3.11.7"
  }
 },
 "nbformat": 4,
 "nbformat_minor": 2
}
