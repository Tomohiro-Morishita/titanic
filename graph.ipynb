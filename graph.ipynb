{
 "cells": [
  {
   "cell_type": "code",
   "execution_count": 2,
   "metadata": {},
   "outputs": [],
   "source": [
    "import matplotlib.pyplot as plt\n",
    "\n"
   ]
  },
  {
   "cell_type": "code",
   "execution_count": 5,
   "metadata": {},
   "outputs": [],
   "source": [
    "# データの準備（例）\n",
    "categories = ['LGBM','RF', 'stakking', 'vote']\n",
    "values = [0.77033, 0.75358, 0.75358, 0.76315]\n",
    "\n",
    "# 棒グラフの作成\n",
    "plt.bar(categories, values)\n",
    "\n",
    "# グラフのタイトルと軸ラベルを設定\n",
    "plt.title('RF-vs-LGBM-vs-vote-vs-stakking')\n",
    "plt.xlabel('model')\n",
    "plt.ylabel('accuracy')\n",
    "plt.ylim(0.70, max(values) + 0.1) \n",
    "\n",
    "for i, value in enumerate(values):\n",
    "    plt.text(i, value + 0.01, f'{value}', ha='center', va='bottom', fontsize=10)\n",
    "# グラフを表示\n",
    "plt.close()\n"
   ]
  },
  {
   "cell_type": "code",
   "execution_count": null,
   "metadata": {},
   "outputs": [],
   "source": [
    "# 欠損値数のカラム\n",
    "\n",
    "# モデル名\n",
    "models = ['LGBM', 'RF', 'stakking', 'vote']\n",
    "# 学習データごとの正答率（例: Data1, Data2）\n",
    "accuracy_baseline = [0.77033, 0.75358, 0.75358, 0.76315]  # 学習データ1の正答率\n",
    "acuracy_miss = [0.76555, 0.74162, 0.74162, 0.76555]  # 学習データ2の正答率\n",
    "\n",
    "# X軸の位置を設定\n",
    "x = np.arange(len(models))\n",
    "width = 0.3  # 棒の幅\n",
    "\n",
    "# グラフの描画\n",
    "fig, ax = plt.subplots(figsize=(8, 5))\n",
    "bars1 = ax.bar(x - width/2, accuracy_baseline, width, label='baseline_data', color='blue', alpha=0.7)\n",
    "bars2 = ax.bar(x + width/2, acuracy_miss, width, label='miss_column_data', color='orange', alpha=0.7)\n",
    "\n",
    "# ラベル・タイトル\n",
    "ax.set_xlabel('Model')\n",
    "ax.set_ylabel('Accuracy')\n",
    "ax.set_title('baseline_data-vs-miss_column_data')\n",
    "ax.set_xticks(x)\n",
    "ax.set_xticklabels(models)\n",
    "ax.legend()\n",
    "\n",
    "# 数値を棒の上に表示\n",
    "for bars in [bars1, bars2]:\n",
    "    for bar in bars:\n",
    "        height = bar.get_height()\n",
    "        ax.text(bar.get_x() + bar.get_width()/2, height, f'{height:.3f}', ha='center', va='bottom')\n",
    "\n",
    "# グラフを表示\n",
    "plt.ylim(0.70, 0.80)  # Y軸の範囲を調整\n",
    "plt.grid(axis='y', linestyle='--', alpha=0.7)\n",
    "plt.show()"
   ]
  }
 ],
 "metadata": {
  "kernelspec": {
   "display_name": "base",
   "language": "python",
   "name": "python3"
  },
  "language_info": {
   "codemirror_mode": {
    "name": "ipython",
    "version": 3
   },
   "file_extension": ".py",
   "mimetype": "text/x-python",
   "name": "python",
   "nbconvert_exporter": "python",
   "pygments_lexer": "ipython3",
   "version": "3.11.7"
  }
 },
 "nbformat": 4,
 "nbformat_minor": 2
}
